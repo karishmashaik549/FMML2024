{
  "cells": [
    {
      "cell_type": "markdown",
      "metadata": {
        "id": "view-in-github",
        "colab_type": "text"
      },
      "source": [
        "<a href=\"https://colab.research.google.com/github/karishmashaik549/FMML2024/blob/main/FMML_M1L2.ipynb\" target=\"_parent\"><img src=\"https://colab.research.google.com/assets/colab-badge.svg\" alt=\"Open In Colab\"/></a>"
      ]
    },
    {
      "cell_type": "markdown",
      "metadata": {
        "id": "3Eu9VZbF01eq"
      },
      "source": [
        "# Machine Learning terms and metrics\n",
        "\n",
        "FMML Module 1, Lab 2\n",
        "\n",
        "In this lab, we will show a part of the ML pipeline by using the California Housing dataset. There are 20640 samples, each with 8 attributes like income of the block, age of the houses per district etc. The task is to predict the cost of the houses per district. We will use the scikit-learn library to load the data and perform some basic data preprocessing and model training. We will also show how to evaluate the model using some common metrics, split the data into training and testing sets, and use cross-validation to get a better estimate of the model's performance."
      ]
    },
    {
      "cell_type": "code",
      "execution_count": 3,
      "metadata": {
        "id": "8qBvyEem0vLi"
      },
      "outputs": [],
      "source": [
        "import numpy as np\n",
        "from sklearn import datasets\n",
        "import matplotlib.pyplot as plt\n",
        "\n",
        "rng = np.random.default_rng(seed=42)"
      ]
    },
    {
      "cell_type": "code",
      "execution_count": 2,
      "metadata": {
        "colab": {
          "base_uri": "https://localhost:8080/"
        },
        "id": "8LpqjN991GGJ",
        "outputId": "d8dee6fa-1523-4713-c6e1-61024323a82f"
      },
      "outputs": [
        {
          "output_type": "stream",
          "name": "stdout",
          "text": [
            ".. _california_housing_dataset:\n",
            "\n",
            "California Housing dataset\n",
            "--------------------------\n",
            "\n",
            "**Data Set Characteristics:**\n",
            "\n",
            "    :Number of Instances: 20640\n",
            "\n",
            "    :Number of Attributes: 8 numeric, predictive attributes and the target\n",
            "\n",
            "    :Attribute Information:\n",
            "        - MedInc        median income in block group\n",
            "        - HouseAge      median house age in block group\n",
            "        - AveRooms      average number of rooms per household\n",
            "        - AveBedrms     average number of bedrooms per household\n",
            "        - Population    block group population\n",
            "        - AveOccup      average number of household members\n",
            "        - Latitude      block group latitude\n",
            "        - Longitude     block group longitude\n",
            "\n",
            "    :Missing Attribute Values: None\n",
            "\n",
            "This dataset was obtained from the StatLib repository.\n",
            "https://www.dcc.fc.up.pt/~ltorgo/Regression/cal_housing.html\n",
            "\n",
            "The target variable is the median house value for California districts,\n",
            "expressed in hundreds of thousands of dollars ($100,000).\n",
            "\n",
            "This dataset was derived from the 1990 U.S. census, using one row per census\n",
            "block group. A block group is the smallest geographical unit for which the U.S.\n",
            "Census Bureau publishes sample data (a block group typically has a population\n",
            "of 600 to 3,000 people).\n",
            "\n",
            "A household is a group of people residing within a home. Since the average\n",
            "number of rooms and bedrooms in this dataset are provided per household, these\n",
            "columns may take surprisingly large values for block groups with few households\n",
            "and many empty houses, such as vacation resorts.\n",
            "\n",
            "It can be downloaded/loaded using the\n",
            ":func:`sklearn.datasets.fetch_california_housing` function.\n",
            "\n",
            ".. topic:: References\n",
            "\n",
            "    - Pace, R. Kelley and Ronald Barry, Sparse Spatial Autoregressions,\n",
            "      Statistics and Probability Letters, 33 (1997) 291-297\n",
            "\n"
          ]
        }
      ],
      "source": [
        "dataset = datasets.fetch_california_housing()\n",
        "# Dataset description\n",
        "print(dataset.DESCR)"
      ]
    },
    {
      "cell_type": "markdown",
      "metadata": {
        "id": "PCe1VNftevgE"
      },
      "source": [
        "Given below are the list of target values. These correspond to the house value derived considering all the 8 input features and are continuous values. We should use regression models to predict these values but we will start with a simple classification model for the sake of simplicity. We need to just round off the values to the nearest integer and use a classification model to predict the house value."
      ]
    },
    {
      "cell_type": "code",
      "execution_count": 4,
      "metadata": {
        "colab": {
          "base_uri": "https://localhost:8080/"
        },
        "id": "F8K0ggBOevgE",
        "outputId": "d1d5eb30-22fa-490b-e64f-cc48488ebe9a"
      },
      "outputs": [
        {
          "output_type": "stream",
          "name": "stdout",
          "text": [
            "Orignal target values: [4.526 3.585 3.521 ... 0.923 0.847 0.894]\n",
            "Target values after conversion: [4 3 3 ... 0 0 0]\n",
            "Input variables shape: (20640, 8)\n",
            "Output variables shape: (20640,)\n"
          ]
        }
      ],
      "source": [
        "print(\"Orignal target values:\", dataset.target)\n",
        "\n",
        "dataset.target = dataset.target.astype(int)\n",
        "\n",
        "print(\"Target values after conversion:\", dataset.target)\n",
        "print(\"Input variables shape:\", dataset.data.shape)\n",
        "print(\"Output variables shape:\", dataset.target.shape)"
      ]
    },
    {
      "cell_type": "markdown",
      "metadata": {
        "id": "iNx4174W5xRg"
      },
      "source": [
        "The simplest model to use for classification is the K-Nearest Neighbors model. We will use this model to predict the house value with a K value of 1. We will also use the accuracy metric to evaluate the model."
      ]
    },
    {
      "cell_type": "code",
      "execution_count": 5,
      "metadata": {
        "id": "07zpydQj1hIQ"
      },
      "outputs": [],
      "source": [
        "def NN1(traindata, trainlabel, query):\n",
        "    \"\"\"\n",
        "    This function takes in the training data, training labels and a query point\n",
        "    and returns the predicted label for the query point using the nearest neighbour algorithm\n",
        "\n",
        "    traindata: numpy array of shape (n,d) where n is the number of samples and d is the number of features\n",
        "    trainlabel: numpy array of shape (n,) where n is the number of samples\n",
        "    query: numpy array of shape (d,) where d is the number of features\n",
        "\n",
        "    returns: the predicted label for the query point which is the label of the training data which is closest to the query point\n",
        "    \"\"\"\n",
        "    diff = (\n",
        "        traindata - query\n",
        "    )  # find the difference between features. Numpy automatically takes care of the size here\n",
        "    sq = diff * diff  # square the differences\n",
        "    dist = sq.sum(1)  # add up the squares\n",
        "    label = trainlabel[np.argmin(dist)]\n",
        "    return label\n",
        "\n",
        "\n",
        "def NN(traindata, trainlabel, testdata):\n",
        "    \"\"\"\n",
        "    This function takes in the training data, training labels and test data\n",
        "    and returns the predicted labels for the test data using the nearest neighbour algorithm\n",
        "\n",
        "    traindata: numpy array of shape (n,d) where n is the number of samples and d is the number of features\n",
        "    trainlabel: numpy array of shape (n,) where n is the number of samples\n",
        "    testdata: numpy array of shape (m,d) where m is the number of test samples and d is the number of features\n",
        "\n",
        "    returns: the predicted labels for the test data which is the label of the training data which is closest to each test point\n",
        "    \"\"\"\n",
        "    predlabel = np.array([NN1(traindata, trainlabel, i) for i in testdata])\n",
        "    return predlabel"
      ]
    },
    {
      "cell_type": "markdown",
      "metadata": {
        "id": "03JktkfIGaje"
      },
      "source": [
        "We will also define a 'random classifier', which randomly allots labels to each sample"
      ]
    },
    {
      "cell_type": "code",
      "execution_count": 6,
      "metadata": {
        "id": "fogWAtjyGhAH"
      },
      "outputs": [],
      "source": [
        "def RandomClassifier(traindata, trainlabel, testdata):\n",
        "    \"\"\"\n",
        "    This function takes in the training data, training labels and test data\n",
        "    and returns the predicted labels for the test data using the random classifier algorithm\n",
        "\n",
        "    In reality, we don't need these arguments but we are passing them to keep the function signature consistent with other classifiers\n",
        "\n",
        "    traindata: numpy array of shape (n,d) where n is the number of samples and d is the number of features\n",
        "    trainlabel: numpy array of shape (n,) where n is the number of samples\n",
        "    testdata: numpy array of shape (m,d) where m is the number of test samples and d is the number of features\n",
        "\n",
        "    returns: the predicted labels for the test data which is a random label from the training data\n",
        "    \"\"\"\n",
        "\n",
        "    classes = np.unique(trainlabel)\n",
        "    rints = rng.integers(low=0, high=len(classes), size=len(testdata))\n",
        "    predlabel = classes[rints]\n",
        "    return predlabel"
      ]
    },
    {
      "cell_type": "markdown",
      "metadata": {
        "id": "1Hjf1KHs7fU5"
      },
      "source": [
        "We need a metric to evaluate the performance of the model. Let us define a metric 'Accuracy' to see how good our learning algorithm is. Accuracy is the ratio of the number of correctly classified samples to the total number of samples. The higher the accuracy, the better the algorithm. We will use the accuracy metric to evaluate and compate the performance of the K-Nearest Neighbors model and the random classifier."
      ]
    },
    {
      "cell_type": "code",
      "execution_count": 7,
      "metadata": {
        "id": "ouuCqWU07bz-"
      },
      "outputs": [],
      "source": [
        "def Accuracy(gtlabel, predlabel):\n",
        "    \"\"\"\n",
        "    This function takes in the ground-truth labels and predicted labels\n",
        "    and returns the accuracy of the classifier\n",
        "\n",
        "    gtlabel: numpy array of shape (n,) where n is the number of samples\n",
        "    predlabel: numpy array of shape (n,) where n is the number of samples\n",
        "\n",
        "    returns: the accuracy of the classifier which is the number of correct predictions divided by the total number of predictions\n",
        "    \"\"\"\n",
        "    assert len(gtlabel) == len(\n",
        "        predlabel\n",
        "    ), \"Length of the ground-truth labels and predicted labels should be the same\"\n",
        "    correct = (\n",
        "        gtlabel == predlabel\n",
        "    ).sum()  # count the number of times the groundtruth label is equal to the predicted label.\n",
        "    return correct / len(gtlabel)"
      ]
    },
    {
      "cell_type": "markdown",
      "metadata": {
        "id": "4vJFwBFa9Klw"
      },
      "source": [
        "Let us make a function to split the dataset with the desired probability. We will use this function to split the dataset into training and testing sets. We will use the training set to train the model and the testing set to evaluate the model."
      ]
    },
    {
      "cell_type": "code",
      "execution_count": 8,
      "metadata": {
        "id": "Ko0VzpSM2Tdi"
      },
      "outputs": [],
      "source": [
        "def split(data, label, percent):\n",
        "    # generate a random number for each sample\n",
        "    rnd = rng.random(len(label))\n",
        "    split1 = rnd < percent\n",
        "    split2 = rnd >= percent\n",
        "\n",
        "    split1data = data[split1, :]\n",
        "    split1label = label[split1]\n",
        "    split2data = data[split2, :]\n",
        "    split2label = label[split2]\n",
        "    return split1data, split1label, split2data, split2label"
      ]
    },
    {
      "cell_type": "markdown",
      "metadata": {
        "id": "AcK3LEAJ_LGC"
      },
      "source": [
        "We will reserve 20% of our dataset as the test set. We will not change this portion throughout our experiments"
      ]
    },
    {
      "cell_type": "code",
      "execution_count": 9,
      "metadata": {
        "colab": {
          "base_uri": "https://localhost:8080/"
        },
        "id": "bBZkHBLJ1iU-",
        "outputId": "1bc0b28d-977a-42dc-8500-b948bef4d143"
      },
      "outputs": [
        {
          "output_type": "stream",
          "name": "stdout",
          "text": [
            "Number of test samples: 4144\n",
            "Number of train samples: 16496\n",
            "Percent of test data: 20.07751937984496 %\n"
          ]
        }
      ],
      "source": [
        "testdata, testlabel, alltraindata, alltrainlabel = split(\n",
        "    dataset.data, dataset.target, 20 / 100\n",
        ")\n",
        "print(\"Number of test samples:\", len(testlabel))\n",
        "print(\"Number of train samples:\", len(alltrainlabel))\n",
        "print(\"Percent of test data:\", len(testlabel) * 100 / len(dataset.target), \"%\")"
      ]
    },
    {
      "cell_type": "markdown",
      "metadata": {
        "id": "a6Ss0Z6IAGNV"
      },
      "source": [
        "## Experiments with splits\n",
        "\n",
        "Let us reserve some of our train data as a validation set"
      ]
    },
    {
      "cell_type": "code",
      "execution_count": 10,
      "metadata": {
        "id": "WFew2iry_7W7"
      },
      "outputs": [],
      "source": [
        "traindata, trainlabel, valdata, vallabel = split(\n",
        "    alltraindata, alltrainlabel, 75 / 100)"
      ]
    },
    {
      "cell_type": "markdown",
      "metadata": {
        "id": "60hiu4clFN1i"
      },
      "source": [
        "What is the accuracy of our classifiers on the train dataset?"
      ]
    },
    {
      "cell_type": "code",
      "execution_count": 12,
      "metadata": {
        "colab": {
          "base_uri": "https://localhost:8080/"
        },
        "id": "DBlZDTHUFTZx",
        "outputId": "a1a8590e-2eca-4a70-ae2b-8df0c0dd192f"
      },
      "outputs": [
        {
          "output_type": "stream",
          "name": "stdout",
          "text": [
            "Training accuracy using nearest neighbour algorithm: 100.0 %\n",
            "Training accuracy using random classifier:  17.205692108667527 %\n"
          ]
        }
      ],
      "source": [
        "trainpred = NN(traindata, trainlabel, traindata)\n",
        "trainAccuracy = Accuracy(trainlabel, trainpred)\n",
        "print(\"Training accuracy using nearest neighbour algorithm:\", trainAccuracy*100, \"%\")\n",
        "\n",
        "trainpred = RandomClassifier(traindata, trainlabel, traindata)\n",
        "trainAccuracy = Accuracy(trainlabel, trainpred)\n",
        "print(\"Training accuracy using random classifier: \", trainAccuracy*100, \"%\")"
      ]
    },
    {
      "cell_type": "markdown",
      "metadata": {
        "id": "7h08-9gJDtSy"
      },
      "source": [
        "For nearest neighbour, the train accuracy is always 1. The accuracy of the random classifier is close to 1/(number of classes) which is 0.1666 in our case. This is because the random classifier randomly assigns a label to each sample and the probability of assigning the correct label is 1/(number of classes). Let us predict the labels for our validation set and get the accuracy. This accuracy is a good estimate of the accuracy of our model on unseen data."
      ]
    },
    {
      "cell_type": "code",
      "execution_count": 13,
      "metadata": {
        "colab": {
          "base_uri": "https://localhost:8080/"
        },
        "id": "4h7bXoW_2H3v",
        "outputId": "120d7b5c-54e6-4983-a74a-a970a800e8ea"
      },
      "outputs": [
        {
          "output_type": "stream",
          "name": "stdout",
          "text": [
            "Validation accuracy using nearest neighbour algorithm: 34.10852713178294 %\n",
            "Validation accuracy using random classifier: 16.86046511627907 %\n"
          ]
        }
      ],
      "source": [
        "valpred = NN(traindata, trainlabel, valdata)\n",
        "valAccuracy = Accuracy(vallabel, valpred)\n",
        "print(\"Validation accuracy using nearest neighbour algorithm:\", valAccuracy*100, \"%\")\n",
        "\n",
        "\n",
        "valpred = RandomClassifier(traindata, trainlabel, valdata)\n",
        "valAccuracy = Accuracy(vallabel, valpred)\n",
        "print(\"Validation accuracy using random classifier:\", valAccuracy*100, \"%\")"
      ]
    },
    {
      "cell_type": "markdown",
      "metadata": {
        "id": "py9bLguFEjfg"
      },
      "source": [
        "Validation accuracy of nearest neighbour is considerably less than its train accuracy while the validation accuracy of random classifier is the same. However, the validation accuracy of nearest neighbour is twice that of the random classifier. Now let us try another random split and check the validation accuracy. We will see that the validation accuracy changes with the split. This is because the validation set is small and the accuracy is highly dependent on the samples in the validation set. We can get a better estimate of the accuracy by using cross-validation."
      ]
    },
    {
      "cell_type": "code",
      "execution_count": 14,
      "metadata": {
        "colab": {
          "base_uri": "https://localhost:8080/"
        },
        "id": "ujm3cyYzEntE",
        "outputId": "a47b9e3d-a3e4-49b0-d29d-32956c7d0757"
      },
      "outputs": [
        {
          "output_type": "stream",
          "name": "stdout",
          "text": [
            "Validation accuracy using nearest neighbour algorithm: 33.959990359122685 %\n"
          ]
        }
      ],
      "source": [
        "traindata, trainlabel, valdata, vallabel = split(\n",
        "    alltraindata, alltrainlabel, 75 / 100)\n",
        "valpred = NN(traindata, trainlabel, valdata)\n",
        "valAccuracy = Accuracy(vallabel, valpred)\n",
        "print(\"Validation accuracy using nearest neighbour algorithm:\", valAccuracy*100, \"%\")"
      ]
    },
    {
      "cell_type": "markdown",
      "metadata": {
        "id": "oSOx7U83EKie"
      },
      "source": [
        "You can run the above cell multiple times to try with different random splits.\n",
        "We notice that the accuracy is different for each run, but close together.\n",
        "\n",
        "Now let us compare it with the accuracy we get on the test dataset."
      ]
    },
    {
      "cell_type": "code",
      "execution_count": 15,
      "metadata": {
        "colab": {
          "base_uri": "https://localhost:8080/"
        },
        "id": "PNEZ5ToYBEDW",
        "outputId": "8887cd49-c055-4812-8d0c-5d99d201c033"
      },
      "outputs": [
        {
          "output_type": "stream",
          "name": "stdout",
          "text": [
            "Test accuracy: 34.91795366795367 %\n"
          ]
        }
      ],
      "source": [
        "testpred = NN(alltraindata, alltrainlabel, testdata)\n",
        "testAccuracy = Accuracy(testlabel, testpred)\n",
        "\n",
        "print(\"Test accuracy:\", testAccuracy*100, \"%\")"
      ]
    },
    {
      "cell_type": "markdown",
      "metadata": {
        "id": "w3dGD531K3gH"
      },
      "source": [
        "### Try it out for yourself and answer:\n",
        "1. How is the accuracy of the validation set affected if we increase the percentage of validation set? What happens when we reduce it?\n",
        "A.The accuracy of the validation set, which reflects how well the model generalizes to unseen data, can be influenced by the size of the validation set, though not always in a straightforward manner.\n",
        "\n",
        "Increasing the Percentage of the Validation Set\n",
        "More Representative: A larger validation set can provide a more accurate estimate of the model’s performance because it is more representative of the overall data distribution. It reduces the variance in the accuracy estimate, making it more stable.\n",
        "\n",
        "Reduced Training Data: As you increase the percentage of data allocated to the validation set, the amount of data available for training decreases. This can lead to a less well-trained model, which might negatively affect its performance. With less training data, the model might not learn as effectively, potentially leading to lower validation accuracy if the model is not well-regularized or if the data is not sufficient for learning.\n",
        "\n",
        "Potential Overfitting: If the validation set is very large, you might observe overfitting to the training data, as there’s less data to test the model's generalization ability. However, this effect is often less pronounced compared to the impact on training performance.\n",
        "\n",
        "Reducing the Percentage of the Validation Set\n",
        "Less Representative: A smaller validation set might not capture the data distribution as well as a larger one. This can lead to a less reliable estimate of model performance due to higher variance in the accuracy measure.\n",
        "\n",
        "More Training Data: With a larger portion of the data used for training, the model has more examples to learn from, which can improve its ability to generalize, provided that the training data is representative of the data the model will encounter in practice.\n",
        "\n",
        "Potential for Less Reliable Validation Metrics: A smaller validation set can lead to higher variability in the accuracy estimates. If the validation set is too small, it might not provide a stable or accurate reflection of model performance.\n",
        "\n",
        "Summary\n",
        "Increasing Validation Set Size: Can lead to a more stable and representative estimate of model performance but may reduce the amount of data available for training, potentially impacting the model's ability to learn effectively.\n",
        "\n",
        "Decreasing Validation Set Size: Provides more data for training but can lead to less stable and potentially less representative accuracy metrics, as the validation set might not adequately capture the overall data distribution.\n",
        "\n",
        "Balancing the size of the validation set and the training set is key to achieving reliable performance evaluation while ensuring the model is adequately trained.\n",
        "\n",
        "\n",
        "\n",
        "\n",
        "\n",
        "2. How does the size of the train and validation set affect how well we can predict the accuracy on the test set using the validation set?\n",
        "A.The size of the train and validation sets can significantly influence how well you can estimate the performance of your model on the test set. Here’s a detailed look at how this works:\n",
        "\n",
        "Train Set Size\n",
        "Larger Train Set:\n",
        "\n",
        "Pros: A larger train set generally allows the model to learn more about the data distribution, leading to better generalization. This can improve the accuracy of your model both on the validation set and the test set.\n",
        "Cons: With a very large train set, the validation set becomes relatively smaller, which might reduce the reliability of the performance estimates from the validation set.\n",
        "Smaller Train Set:\n",
        "\n",
        "Pros: A smaller train set can make it easier to validate performance because you have a larger validation set. This can give a clearer picture of how the model performs on unseen data.\n",
        "Cons: If the train set is too small, the model might not generalize well and may have higher variance. This can lead to less reliable predictions on both the validation and test sets.\n",
        "Validation Set Size\n",
        "Larger Validation Set:\n",
        "\n",
        "Pros: A larger validation set can provide a more accurate estimate of the model’s performance because it better represents the distribution of the test set. This improves the reliability of the accuracy estimates.\n",
        "Cons: If too much data is allocated to the validation set, the amount of data left for training might be insufficient, which can hurt the model’s ability to learn effectively.\n",
        "Smaller Validation Set:\n",
        "\n",
        "Pros: A smaller validation set allows more data to be used for training, which can improve the model’s performance.\n",
        "Cons: A smaller validation set may not be representative of the test set, leading to less reliable estimates of the model’s performance. This can result in overfitting to the training data and poor generalization.\n",
        "Balancing Act\n",
        "Trade-offs: The key is to balance the sizes of the train and validation sets. You want enough data in the validation set to get a reliable estimate of performance while still having enough data in the train set to build a robust model.\n",
        "Typical Splits: Common practice is to use about 70-80% of the data for training and 20-30% for validation. The exact split can depend on the total amount of data available. For smaller datasets, you might use techniques like cross-validation to make the most out of limited data.\n",
        "Cross-Validation\n",
        "K-Fold Cross-Validation: If you have limited data, cross-validation techniques, such as k-fold cross-validation, can help. In k-fold cross-validation, the data is split into k subsets. The model is trained on\n",
        "𝑘\n",
        "−\n",
        "1\n",
        "k−1 of these subsets and validated on the remaining one. This process is repeated k times, with each subset being used as the validation set once. This approach helps in making better use of available data and gives a more robust estimate of performance.\n",
        "In summary, the size of the train and validation sets influences how well you can estimate model performance. Larger validation sets provide more reliable estimates but may reduce the amount of data available for training. Conversely, smaller validation sets might give less reliable performance estimates but allow more data for training. Balancing these aspects is crucial for effective model evaluation and generalization.\n",
        "\n",
        "\n",
        "\n",
        "\n",
        "\n",
        "3. What do you think is a good percentage to reserve for the validation set so that thest two factors are balanced?\n",
        "A.A commonly recommended practice is to reserve around 20% to 30% of your data for the validation set. This range strikes a balance between having enough data to train the model effectively and having enough data in the validation set to get a reliable estimate of the model’s performance. Here’s a more detailed breakdown of how you might decide on the exact percentage based on your specific context:\n",
        "\n",
        "Guidelines for Validation Set Size\n",
        "Standard Split:\n",
        "\n",
        "Typical Range: 20% to 30% of the data for validation is generally considered a good starting point. This is widely used in practice and provides a reasonable balance between the train and validation set sizes.\n",
        "Dataset Size Considerations:\n",
        "\n",
        "Large Datasets: If you have a large dataset (e.g., hundreds of thousands of samples or more), you might lean towards the lower end of the range, such as 20%. The large volume of data allows for a smaller percentage to still provide a sufficiently large validation set.\n",
        "Small Datasets: For smaller datasets (e.g., a few thousand samples), you might opt for a larger percentage, closer to 30%, to ensure that the validation set is adequately representative. Alternatively, you might consider using techniques like k-fold cross-validation to make better use of limited data.\n",
        "Cross-Validation:\n",
        "\n",
        "K-Fold Cross-Validation: If you are working with a small dataset or want a more robust estimate, cross-validation can be a good alternative. With k-fold cross-validation, you can use, for example, 10 folds, where each fold is used as the validation set once while the other 9 folds are used for training. This method helps mitigate the variance that might arise from a single train-validation split and provides a more reliable estimate of model performance.\n",
        "Hold-Out Test Set:\n",
        "\n",
        "Additional Split: If you also have a separate test set, the validation set is used for tuning and selecting the model, while the test set is reserved for the final evaluation of the model’s performance. The test set should be kept completely separate from the training and validation process to provide an unbiased evaluation.\n",
        "Example Scenarios\n",
        "Large Dataset (e.g., 100,000 samples): Use 20% for validation (20,000 samples) and the remaining 80% for training (80,000 samples). This typically provides a good balance.\n",
        "Small Dataset (e.g., 5,000 samples): Use 30% for validation (1,500 samples) and the remaining 70% for training (3,500 samples). Alternatively, use k-fold cross-validation with 5 or 10 folds to better utilize the available data.\n",
        "In summary, reserving 20% to 30% of the data for validation is a good general practice. Adjustments can be made based on the size of your dataset and specific needs of your model evaluation strategy.\n",
        "\n",
        "\n",
        "\n",
        "\n",
        "\n",
        "\n",
        "Answer for both nearest neighbour and random classifier. You can note down the values for your experiments and plot a graph using  <a href=https://matplotlib.org/stable/gallery/lines_bars_and_markers/step_demo.html#sphx-glr-gallery-lines-bars-and-markers-step-demo-py>plt.plot<href>. Check also for extreme values for splits, like 99.9% or 0.1%"
      ]
    },
    {
      "cell_type": "markdown",
      "metadata": {
        "id": "M9zvdYY6evgI"
      },
      "source": [
        "> Exercise: Try to implement a 3 nearest neighbour classifier and compare the accuracy of the 1 nearest neighbour classifier and the 3 nearest neighbour classifier on the test dataset. You can use the KNeighborsClassifier class from the scikit-learn library to implement the K-Nearest Neighbors model. You can set the number of neighbors using the n_neighbors parameter. You can also use the accuracy_score function from the scikit-learn library to calculate the accuracy of the model.\n",
        "\n",
        "\n"
      ]
    },
    {
      "cell_type": "code",
      "source": [
        "from sklearn.neighbors import KNeighborsClassifier\n",
        "from sklearn.metrics import accuracy_score\n",
        "\n",
        "\n",
        "X_train = traindata\n",
        "y_train = trainlabel\n",
        "X_test = testdata\n",
        "y_test = testlabel\n",
        "\n",
        "\n",
        "knn_1 = KNeighborsClassifier(n_neighbors=1)\n",
        "knn_1.fit(X_train, y_train)\n",
        "\n",
        "\n",
        "y_pred_1 = knn_1.predict(X_test)\n",
        "accuracy_1 = accuracy_score(y_test, y_pred_1)\n",
        "\n",
        "\n",
        "knn_3 = KNeighborsClassifier(n_neighbors=3)\n",
        "knn_3.fit(X_train, y_train)\n",
        "\n",
        "y_pred_3 = knn_3.predict(X_test)\n",
        "accuracy_3 = accuracy_score(y_test, y_pred_3)\n",
        "print(\"Accuracy of 1-Nearest Neighbor Classifier: {:.2f}\".format(accuracy_1))\n",
        "print(\"Accuracy of 3-Nearest Neighbor Classifier: {:.2f}\".format(accuracy_3))"
      ],
      "metadata": {
        "colab": {
          "base_uri": "https://localhost:8080/"
        },
        "id": "WH15u6hNMFjq",
        "outputId": "1b645814-0ca0-417c-8edb-d194e812d57f"
      },
      "execution_count": 19,
      "outputs": [
        {
          "output_type": "stream",
          "name": "stdout",
          "text": [
            "Accuracy of 1-Nearest Neighbor Classifier: 0.34\n",
            "Accuracy of 3-Nearest Neighbor Classifier: 0.35\n"
          ]
        }
      ]
    },
    {
      "cell_type": "markdown",
      "metadata": {
        "id": "PnYvkAZLQY7h"
      },
      "source": [
        "## Multiple Splits\n",
        "\n",
        "One way to get more accurate estimates for the test accuracy is by using <b>cross-validation</b>. Here, we will try a simple version, where we do multiple train/val splits and take the average of validation accuracies as the test accuracy estimation. Here is a function for doing this. Note that this function will take a long time to execute. You can reduce the number of splits to make it faster."
      ]
    },
    {
      "cell_type": "code",
      "execution_count": 16,
      "metadata": {
        "id": "E4nGCUQXBTzo"
      },
      "outputs": [],
      "source": [
        "def AverageAccuracy(alldata, alllabel, splitpercent, iterations, classifier=NN):\n",
        "    \"\"\"\n",
        "    This function takes in the data, labels, split percentage, number of iterations and classifier function\n",
        "    and returns the average accuracy of the classifier\n",
        "\n",
        "    alldata: numpy array of shape (n,d) where n is the number of samples and d is the number of features\n",
        "    alllabel: numpy array of shape (n,) where n is the number of samples\n",
        "    splitpercent: float which is the percentage of data to be used for training\n",
        "    iterations: int which is the number of iterations to run the classifier\n",
        "    classifier: function which is the classifier function to be used\n",
        "\n",
        "    returns: the average accuracy of the classifier\n",
        "    \"\"\"\n",
        "    accuracy = 0\n",
        "    for ii in range(iterations):\n",
        "        traindata, trainlabel, valdata, vallabel = split(\n",
        "            alldata, alllabel, splitpercent\n",
        "        )\n",
        "        valpred = classifier(traindata, trainlabel, valdata)\n",
        "        accuracy += Accuracy(vallabel, valpred)\n",
        "    return accuracy / iterations  # average of all accuracies"
      ]
    },
    {
      "cell_type": "code",
      "execution_count": 17,
      "metadata": {
        "colab": {
          "base_uri": "https://localhost:8080/"
        },
        "id": "H3qtNar7Bbik",
        "outputId": "a20370b7-0d41-4547-9a6e-4b439884becd"
      },
      "outputs": [
        {
          "output_type": "stream",
          "name": "stdout",
          "text": [
            "Average validation accuracy: 33.96388622460814 %\n",
            "Test accuracy: 34.91795366795367 %\n"
          ]
        }
      ],
      "source": [
        "avg_acc = AverageAccuracy(alltraindata, alltrainlabel, 75 / 100, 10, classifier=NN)\n",
        "print(\"Average validation accuracy:\", avg_acc*100, \"%\")\n",
        "testpred = NN(alltraindata, alltrainlabel, testdata)\n",
        "\n",
        "print(\"Test accuracy:\", Accuracy(testlabel, testpred)*100, \"%\")"
      ]
    },
    {
      "cell_type": "markdown",
      "metadata": {
        "id": "33GIn4x5VH-d"
      },
      "source": [
        "This is a very simple way of doing cross-validation. There are many well-known algorithms for cross-validation, like k-fold cross-validation, leave-one-out etc. This will be covered in detail in a later module. For more information about cross-validation, check <a href=https://en.wikipedia.org/wiki/Cross-validation_(statistics)>Cross-validatioin (Wikipedia)</a>\n",
        "\n",
        "### Questions\n",
        "1. Does averaging the validation accuracy across multiple splits give more consistent results?\n",
        "A.Yes, averaging the validation accuracy across multiple splits generally gives more consistent and reliable results compared to a single validation split. Here’s why this approach is beneficial:\n",
        "\n",
        "Benefits of Averaging Validation Accuracy\n",
        "Reduces Variability:\n",
        "\n",
        "Single Split Variability: A single validation split might not fully represent the variability in the data or the performance of the model. This is especially true if the validation set is not representative of the overall dataset, leading to higher variance in performance estimates.\n",
        "Averaging Across Multiple Splits: By averaging validation accuracy across multiple splits, you account for different possible variations in the data, which helps in obtaining a more stable estimate of the model’s performance.\n",
        "Improves Reliability:\n",
        "\n",
        "More Data Points: Each split provides a different estimate of performance. Averaging these estimates gives a more reliable indication of the model’s generalization ability, as it smooths out any anomalies or biases present in any single split.\n",
        "Reduces Overfitting to Validation Data:\n",
        "\n",
        "Single Validation Set: With a single validation set, there is a risk that the model might tune its hyperparameters too specifically for that set, which can lead to overfitting.\n",
        "Cross-Validation: By using multiple splits or cross-validation, you minimize the risk of overfitting to any particular validation set because the model is evaluated on multiple different subsets of the data.\n",
        "Cross-Validation Techniques\n",
        "K-Fold Cross-Validation:\n",
        "\n",
        "Procedure: The data is divided into\n",
        "𝑘\n",
        "k folds. The model is trained\n",
        "𝑘\n",
        "k times, each time using\n",
        "𝑘\n",
        "−\n",
        "1\n",
        "k−1 folds for training and the remaining fold for validation. The performance metrics from each fold are then averaged.\n",
        "Benefits: This technique ensures that every sample is used for both training and validation, providing a more comprehensive evaluation of the model’s performance.\n",
        "Leave-One-Out Cross-Validation (LOOCV):\n",
        "\n",
        "Procedure: This is a special case of k-fold cross-validation where\n",
        "𝑘\n",
        "k equals the number of samples in the dataset. Each sample is used once as a validation set while the remaining samples are used for training.\n",
        "Benefits: LOOCV provides an extremely thorough evaluation but can be computationally expensive, especially for large datasets.\n",
        "Repeated Cross-Validation:\n",
        "\n",
        "Procedure: Cross-validation is repeated multiple times with different random splits of the data. The results from these repetitions are averaged.\n",
        "Benefits: This approach further enhances the robustness of the performance estimate by accounting for different random variations in the data splits.\n",
        "\n",
        "\n",
        "\n",
        "\n",
        "2. Does it give more accurate estimate of test accuracy?\n",
        "A.Yes, averaging validation accuracy across multiple splits generally provides a more accurate estimate of test accuracy compared to using a single validation split.\n",
        "\n",
        "Reasoning:\n",
        "\n",
        "Reduced Variance: Multiple splits help account for the variability in data and model performance, leading to a more stable and reliable estimate of how the model will perform on unseen data (like the test set).\n",
        "Minimized Overfitting to Validation: With a single split, there's a risk of overfitting to the validation set. Averaging across splits reduces this risk, as the model is evaluated on different subsets of the data.\n",
        "This approach simulates how the model might perform on various unseen data samples, giving a more realistic expectation of its performance on the test set.\n",
        "\n",
        "However, it's important to note that even with multiple splits, the estimate is still an approximation, and the true test accuracy might vary slightly.\n",
        "\n",
        "\n",
        "\n",
        "3. What is the effect of the number of iterations on the estimate? Do we get a better estimate with higher iterations?\n",
        "A.Generally, increasing the number of iterations in cross-validation (or multiple splits) leads to a more reliable and stable estimate of model performance.\n",
        "\n",
        "Reasoning:\n",
        "\n",
        "Reduced Randomness: Each iteration introduces some randomness due to the data splitting process. With more iterations, the impact of this randomness is reduced, as the results are averaged over a larger number of splits.\n",
        "Smoother Estimate: Higher iterations lead to a smoother average, reducing the chances of getting a biased estimate due to a \"lucky\" or \"unlucky\" split.\n",
        "However, there are practical considerations:\n",
        "\n",
        "Computational Cost: More iterations mean more training and evaluation cycles, increasing the computational time required.\n",
        "Diminishing Returns: The improvement in the estimate might plateau after a certain number of iterations. The gain in accuracy from additional iterations might become negligible.\n",
        "In summary: Increasing iterations generally improves the estimate's reliability, but it's essential to balance it with computational resources and the point of diminishing returns.\n",
        "\n",
        "\n",
        "\n",
        "4. Consider the results you got for the previous questions. Can we deal with a very small train dataset or validation dataset by increasing the iterations?\n",
        "A.Increasing iterations in cross-validation can help mitigate some of the issues associated with small datasets, but it cannot fully compensate for the limitations of having very small train or validation sets.\n",
        "\n",
        "Here's why:\n",
        "\n",
        "Small Training Set:\n",
        "\n",
        "Limited Learning: A small training set restricts the model's ability to learn the underlying patterns in the data. Increasing iterations won't magically create more data for the model to learn from.\n",
        "Overfitting Risk: With limited training data, the model might overfit even with cross-validation, as it might memorize the small training set instead of generalizing.\n",
        "Small Validation Set:\n",
        "\n",
        "Unreliable Estimate: A small validation set might not be representative of the overall data distribution, leading to a less reliable estimate of model performance, even with many iterations.\n",
        "What increasing iterations CAN do:\n",
        "\n",
        "Better Utilization of Available Data: With more iterations, the model gets exposed to different variations of the small dataset, potentially improving its learning within the constraints of the limited data.\n",
        "More Stable Estimate (to a degree): It can help reduce the variance in the performance estimate caused by the randomness of data splitting.\n",
        "However, it's important to acknowledge that increasing iterations is NOT a substitute for having sufficient data.\n",
        "\n",
        "For very small datasets, consider:\n",
        "\n",
        "Collecting More Data: If possible, the most effective solution is to gather more data to improve the model's learning and generalization.\n",
        "Simpler Models: Opt for simpler models with fewer parameters to reduce the risk of overfitting.\n",
        "Regularization Techniques: Employ regularization techniques to prevent overfitting and improve generalization.\n",
        "In conclusion, while increasing iterations can offer some benefits with small datasets, it's crucial to be aware of the inherent limitations and explore other strategies to address the challenges posed by limited data.\n"
      ]
    },
    {
      "cell_type": "markdown",
      "metadata": {
        "id": "z-SBxy1qevgJ"
      },
      "source": [
        "> Exercise: How does the accuracy of the 3 nearest neighbour classifier change with the number of splits? How is it affected by the split size? Compare the results with the 1 nearest neighbour classifier.\n",
        "\n"
      ]
    },
    {
      "cell_type": "code",
      "source": [
        "def AverageAccuracy(alldata, alllabel, splitpercent, iterations, neighbours=1):\n",
        "\n",
        "    accuracy = 0\n",
        "    for ii in range(iterations):\n",
        "        traindata, trainlabel, valdata, vallabel = split(\n",
        "            alldata, alllabel, splitpercent\n",
        "        )\n",
        "        valpred = KNeighborsClassifier(n_neighbors=neighbours).fit(traindata, trainlabel).predict(valdata)\n",
        "        accuracy += Accuracy(vallabel, valpred)\n",
        "    return accuracy / iterations"
      ],
      "metadata": {
        "id": "IE2a6oryS28T"
      },
      "execution_count": 23,
      "outputs": []
    },
    {
      "cell_type": "code",
      "source": [
        "splits = 10\n",
        "splitpercent = 75/100\n",
        "\n",
        "avg_acc_1 = AverageAccuracy(alltraindata, alltrainlabel, splitpercent, splits, neighbours=1)\n",
        "print(f\"Average validation accuracy for 1NN with {splits} splits and {splitpercent*100}% split: {avg_acc_1*100:.2f}%\")\n",
        "\n",
        "avg_acc_3 = AverageAccuracy(alltraindata, alltrainlabel, splitpercent, splits, neighbours=3)\n",
        "print(f\"Average validation accuracy for 3NN with {splits} splits and {splitpercent*100}% split: {avg_acc_3*100:.2f}%\")\n",
        "\n"
      ],
      "metadata": {
        "colab": {
          "base_uri": "https://localhost:8080/"
        },
        "id": "vVK03s5gS6J7",
        "outputId": "956c9666-e5ec-4d3c-8f2c-206fd4e2916c"
      },
      "execution_count": 24,
      "outputs": [
        {
          "output_type": "stream",
          "name": "stdout",
          "text": [
            "Average validation accuracy for 1NN with 10 splits and 75.0% split: 33.92%\n",
            "Average validation accuracy for 3NN with 10 splits and 75.0% split: 34.50%\n"
          ]
        }
      ]
    },
    {
      "cell_type": "markdown",
      "source": [
        "To observe how the accuracy of the 3 nearest neighbour classifier changes in relation to the number of splits and split size, and to compare it with the 1 nearest neighbour classifier, you'll need to conduct a series of experiments. Here's a suggested approach:\n",
        "\n",
        "Experiment with different values:\n",
        "\n",
        "    Number of splits: Try different values for the number of splits (e.g., 5, 10, 20).\n",
        "        Split size: Vary the percentage of data used for training (e.g., 60/40, 70/30, 80/20).\n",
        "        Neighbours: Compare the results for 1 nearest neighbour and 3 nearest neighbours.\n",
        "\n",
        "    Run experiments and collect results:\n",
        "\n",
        "For each combination of splits, split size, and neighbours, calculate the average accuracy using the AverageAccuracy function. Record the results in a table or plot them on a graph.\n",
        "\n",
        "    Analyze the results:\n",
        "\n",
        "    Effect of splits: How does increasing the number of splits affect the accuracy and consistency of the results for both classifiers?\n",
        "        Effect of split size: How does changing the split size impact the accuracy of both classifiers?\n",
        "        Comparison: How do the accuracies of the 1 nearest neighbour and 3 nearest neighbour classifiers compare across different splits and split sizes?"
      ],
      "metadata": {
        "id": "fZ2eIy4hNBuG"
      }
    }
  ],
  "metadata": {
    "colab": {
      "provenance": [],
      "include_colab_link": true
    },
    "kernelspec": {
      "display_name": "Python 3",
      "name": "python3"
    },
    "language_info": {
      "codemirror_mode": {
        "name": "ipython",
        "version": 3
      },
      "file_extension": ".py",
      "mimetype": "text/x-python",
      "name": "python",
      "nbconvert_exporter": "python",
      "pygments_lexer": "ipython3",
      "version": "3.10.10"
    }
  },
  "nbformat": 4,
  "nbformat_minor": 0
}